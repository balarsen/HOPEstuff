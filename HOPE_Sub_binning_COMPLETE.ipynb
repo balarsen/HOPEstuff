{
 "cells": [
  {
   "cell_type": "code",
   "execution_count": 1,
   "metadata": {
    "collapsed": false
   },
   "outputs": [
    {
     "name": "stdout",
     "output_type": "stream",
     "text": [
      "This unreleased version of SpacePy is not supported by the SpacePy team.\n"
     ]
    }
   ],
   "source": [
    "%matplotlib inline\n",
    "\n",
    "import matplotlib.pyplot as plt\n",
    "import numpy as np\n",
    "from scipy.integrate import quad\n",
    "import spacepy.toolbox as tb\n",
    "\n",
    "from itertools import tee\n",
    "def pairwise(iterable):\n",
    "    \"s -> (s0,s1), (s1,s2), (s2, s3), ...\"\n",
    "    a, b = tee(iterable)\n",
    "    next(b, None)\n",
    "    return zip(a, b)\n",
    "\n",
    "\n"
   ]
  },
  {
   "cell_type": "markdown",
   "metadata": {},
   "source": [
    "# Make the split for the polar angle, it is a triangle"
   ]
  },
  {
   "cell_type": "code",
   "execution_count": 2,
   "metadata": {
    "collapsed": false
   },
   "outputs": [],
   "source": [
    "def polar_resp(x):\n",
    "    # outside -5, 5 it is zero\n",
    "    p11 = np.asarray([-5,0])\n",
    "    p12 = np.asarray([0,1])\n",
    "    m1 = (p12[1] - p11[1])/(p12[0] - p11[0])\n",
    "    \n",
    "    p21 = np.asarray([5,0])\n",
    "    p22 = np.asarray([0,1])\n",
    "    m2 = (p22[1] - p21[1])/(p22[0] - p21[0])\n",
    "    \n",
    "    x = np.asanyarray(x)\n",
    "    ans = np.empty(x.shape, dtype=float)\n",
    "    ind = np.where(x <= 0)[0]\n",
    "    try:\n",
    "        ans[ind] = x[ind]*m1 - m1*p11[0] + p11[1]\n",
    "    except IndexError:\n",
    "        ans = x*m1 - m1*p11[0] + p11[1]\n",
    "    ind = np.where(x > 0)[0]\n",
    "    try:\n",
    "        ans[ind] = x[ind]*m2 - m2*p21[0] + p21[1]\n",
    "    except IndexError:\n",
    "        if x > 0:\n",
    "            ans = x*m2 - m2*p21[0] + p21[1]\n",
    "        else:\n",
    "            pass\n",
    "    ans = np.clip(ans, 0, 1e9)\n",
    "    return ans\n",
    "    "
   ]
  },
  {
   "cell_type": "code",
   "execution_count": 3,
   "metadata": {
    "collapsed": false
   },
   "outputs": [
    {
     "data": {
      "text/plain": [
       "0.19999999999999996"
      ]
     },
     "execution_count": 3,
     "metadata": {},
     "output_type": "execute_result"
    }
   ],
   "source": [
    "polar_resp(-4)\n"
   ]
  },
  {
   "cell_type": "code",
   "execution_count": 4,
   "metadata": {
    "collapsed": false
   },
   "outputs": [
    {
     "name": "stdout",
     "output_type": "stream",
     "text": [
      "[-5.  -4.5 -4.  -3.5 -3.  -2.5 -2.  -1.5 -1.  -0.5  0.   0.5  1.   1.5  2.\n",
      "  2.5  3.   3.5  4.   4.5  5. ]\n"
     ]
    },
    {
     "data": {
      "text/plain": [
       "(4.999999999999999, 5.5067062021407764e-14)"
      ]
     },
     "execution_count": 4,
     "metadata": {},
     "output_type": "execute_result"
    },
    {
     "data": {
      "image/png": "[encoded data removed]",
      "text/plain": [
       "<matplotlib.figure.Figure at 0x10ffda358>"
      ]
     },
     "metadata": {},
     "output_type": "display_data"
    }
   ],
   "source": [
    "x = np.linspace(-5,5,21)\n",
    "print(x)\n",
    "plt.plot(x, polar_resp(x))\n",
    "quad(polar_resp, -10, 10)"
   ]
  },
  {
   "cell_type": "code",
   "execution_count": 5,
   "metadata": {
    "collapsed": false
   },
   "outputs": [
    {
     "name": "stdout",
     "output_type": "stream",
     "text": [
      "6.0\n"
     ]
    }
   ],
   "source": [
    "def resp_between_norm(counts, x1, x2, fn=polar_resp):\n",
    "    return counts*quad(fn, x1, x2)[0]/quad(fn, -5, 5)[0]\n",
    "\n",
    "print(resp_between_norm(100, -4,-3))"
   ]
  },
  {
   "cell_type": "code",
   "execution_count": 14,
   "metadata": {
    "collapsed": false
   },
   "outputs": [
    {
     "name": "stdout",
     "output_type": "stream",
     "text": [
      "[-5. -4. -3. -2. -1.  0.  1.  2.  3.  4.  5.]\n",
      "1.999999999999999\n",
      "4.999999999999999 489.99999999999994\n",
      "[  2.   6.  10.  14.  18.  18.  14.  10.   6.   2.]\n",
      "100.0\n"
     ]
    },
    {
     "data": {
      "image/png": "[encoded data removed]",
      "text/plain": [
       "<matplotlib.figure.Figure at 0x111c34978>"
      ]
     },
     "metadata": {},
     "output_type": "display_data"
    }
   ],
   "source": [
    "def split_resp_polar(counts, edges):\n",
    "    ans = np.empty(len(edges)-1, dtype=float)\n",
    "    for i, (x1, x2) in enumerate(pairwise(edges)):\n",
    "        ans[i] = resp_between_norm(counts, x1, x2, fn=polar_resp)\n",
    "    return ans\n",
    "\n",
    "print(np.linspace(-5,5,11))\n",
    "print(resp_between_norm(100, -5,-4))\n",
    "print(quad(polar_resp, -5, 5)[0], 100*quad(polar_resp, -5,4)[0])\n",
    "edges = np.linspace(-5,5,11)\n",
    "counts = split_resp_polar(100,edges )\n",
    "print( counts)\n",
    "plt.plot(tb.bin_edges_to_center(edges), counts, '-o')\n",
    "print(sum(counts))"
   ]
  },
  {
   "cell_type": "code",
   "execution_count": 7,
   "metadata": {
    "collapsed": false
   },
   "outputs": [
    {
     "data": {
      "text/plain": [
       "0.0"
      ]
     },
     "execution_count": 7,
     "metadata": {},
     "output_type": "execute_result"
    }
   ],
   "source": [
    "fn=polar_resp\n",
    "quad(fn, -5, 5)[0]\n",
    "fn(-6)\n"
   ]
  },
  {
   "cell_type": "code",
   "execution_count": null,
   "metadata": {
    "collapsed": true
   },
   "outputs": [],
   "source": []
  },
  {
   "cell_type": "markdown",
   "metadata": {
    "collapsed": true
   },
   "source": [
    "# Make the split for azi, it is gaussian"
   ]
  },
  {
   "cell_type": "code",
   "execution_count": 12,
   "metadata": {
    "collapsed": true
   },
   "outputs": [],
   "source": [
    "def azi_resp(x):\n",
    "    fwhm = 2.0\n",
    "    mean = -1.0\n",
    "    t1 = 2*np.sqrt(np.log(2))/(fwhm*np.sqrt(np.pi))\n",
    "    t2 = -(x-mean)**2\n",
    "    t3 = 4*np.log(2)/fwhm**2\n",
    "    return t1*np.exp(t2*t3)\n"
   ]
  },
  {
   "cell_type": "code",
   "execution_count": 15,
   "metadata": {
    "collapsed": false
   },
   "outputs": [
    {
     "name": "stdout",
     "output_type": "stream",
     "text": [
      "[-5.  -4.5 -4.  -3.5 -3.  -2.5 -2.  -1.5 -1.  -0.5  0.   0.5  1.   1.5  2.\n",
      "  2.5  3.   3.5  4.   4.5  5. ]\n",
      "i1 (0.9999987592261852, 4.2669563002151385e-09)\n",
      "i2 (1.0, 4.273148041182737e-09)\n",
      "i3 (1.0, 4.2731478885270715e-09)\n"
     ]
    },
    {
     "data": {
      "image/png": "[encoded data removed]",
      "text/plain": [
       "<matplotlib.figure.Figure at 0x1122ce240>"
      ]
     },
     "metadata": {},
     "output_type": "display_data"
    }
   ],
   "source": [
    "x = np.linspace(-5,5,21)\n",
    "print(x)\n",
    "plt.plot(x, azi_resp(x))\n",
    "print('i1', quad(azi_resp, -5, 5))\n",
    "print('i2', quad(azi_resp, -10, 10))\n",
    "print('i3', quad(azi_resp, -20, 20))"
   ]
  },
  {
   "cell_type": "code",
   "execution_count": 16,
   "metadata": {
    "collapsed": true
   },
   "outputs": [],
   "source": [
    "def split_resp_azi(counts, edges):\n",
    "    ans = np.empty(len(edges)-1, dtype=float)\n",
    "    for i, (x1, x2) in enumerate(pairwise(edges)):\n",
    "        ans[i] = resp_between_norm(counts, x1, x2, fn=azi_resp)\n",
    "    return ans\n"
   ]
  },
  {
   "cell_type": "code",
   "execution_count": 17,
   "metadata": {
    "collapsed": false
   },
   "outputs": [
    {
     "name": "stdout",
     "output_type": "stream",
     "text": [
      "[  2.04794821e-02   9.05981478e-01   1.10250244e+01   3.80484526e+01\n",
      "   3.80484526e+01   1.10250244e+01   9.05981478e-01   2.04794821e-02\n",
      "   1.23880880e-04   1.96494390e-07]\n",
      "100.0\n"
     ]
    },
    {
     "data": {
      "image/png": "[encoded data removed]",
      "text/plain": [
       "<matplotlib.figure.Figure at 0x10a610e10>"
      ]
     },
     "metadata": {},
     "output_type": "display_data"
    }
   ],
   "source": [
    "edges = np.linspace(-5,5,11)\n",
    "counts = split_resp_azi(100,edges )\n",
    "print( counts)\n",
    "plt.plot(tb.bin_edges_to_center(edges), counts, '-o')\n",
    "print(sum(counts))"
   ]
  },
  {
   "cell_type": "markdown",
   "metadata": {},
   "source": [
    "# Make the resp 2d"
   ]
  },
  {
   "cell_type": "code",
   "execution_count": 30,
   "metadata": {
    "collapsed": true
   },
   "outputs": [],
   "source": [
    "def resp_2d(counts, polar_edges, azi_edges, fn_polar=polar_resp, fn_azi=azi_resp):\n",
    "    ans = np.empty((len(azi_edges)-1, len(polar_edges)-1), dtype=float)\n",
    "    # compute the azi\n",
    "    azi_tmp = split_resp_azi(counts, azi_edges)\n",
    "    # loop over the azi, computing polar\n",
    "    for i, a_tmp in enumerate(azi_tmp):\n",
    "        ans[i] = split_resp_polar(a_tmp, polar_edges)\n",
    "    return ans\n",
    "    "
   ]
  },
  {
   "cell_type": "code",
   "execution_count": 40,
   "metadata": {
    "collapsed": false
   },
   "outputs": [
    {
     "name": "stdout",
     "output_type": "stream",
     "text": [
      "100.000124077\n"
     ]
    },
    {
     "data": {
      "image/png": "[encoded data removed]",
      "text/plain": [
       "<matplotlib.figure.Figure at 0x1139442e8>"
      ]
     },
     "metadata": {},
     "output_type": "display_data"
    }
   ],
   "source": [
    "p_edges = np.linspace(-5,5,11)\n",
    "a_edges = np.linspace(-7,7,31)\n",
    "ans = resp_2d(100, p_edges, a_edges)\n",
    "plt.pcolormesh(p_edges, a_edges, ans)\n",
    "plt.axes().set_aspect('equal', 'datalim')\n",
    "plt.ylabel('AZ')\n",
    "plt.xlabel('Polar')\n",
    "cb = plt.colorbar()\n",
    "cb.set_label('Counts')\n",
    "print(ans.sum())"
   ]
  },
  {
   "cell_type": "code",
   "execution_count": null,
   "metadata": {
    "collapsed": true
   },
   "outputs": [],
   "source": []
  }
 ],
 "metadata": {
  "kernelspec": {
   "display_name": "Python 3",
   "language": "python",
   "name": "python3"
  },
  "language_info": {
   "codemirror_mode": {
    "name": "ipython",
    "version": 3
   },
   "file_extension": ".py",
   "mimetype": "text/x-python",
   "name": "python",
   "nbconvert_exporter": "python",
   "pygments_lexer": "ipython3",
   "version": "3.5.2"
  }
 },
 "nbformat": 4,
 "nbformat_minor": 0
}
