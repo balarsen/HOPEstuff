{
 "cells": [
  {
   "cell_type": "code",
   "execution_count": 1,
   "metadata": {
    "ExecuteTime": {
     "end_time": "2017-07-26T23:43:52.100188Z",
     "start_time": "2017-07-26T23:43:52.065157Z"
    }
   },
   "outputs": [],
   "source": [
    "from __future__ import division\n",
    "\n",
    "import bisect\n",
    "import ctypes\n",
    "import ctypes.util\n",
    "import itertools\n",
    "import datetime\n",
    "import os\n",
    "from optparse import OptionParser\n",
    "import time\n",
    "import re\n",
    "\n",
    "import matplotlib.pyplot as plt\n",
    "from matplotlib.colors import LogNorm\n",
    "import numpy as np\n",
    "import spacepy.toolbox as tb\n",
    "import spacepy.time as spt\n",
    "import spacepy.datamodel as dm\n",
    "import spacepy.pycdf as pycdf\n",
    "# import spacepy.plot as spp\n",
    "import pandas as pd\n",
    "import seaborn as sns\n",
    "import tqdm\n",
    "\n",
    "%matplotlib inline"
   ]
  },
  {
   "cell_type": "code",
   "execution_count": 2,
   "metadata": {
    "ExecuteTime": {
     "end_time": "2017-07-26T23:43:52.107210Z",
     "start_time": "2017-07-26T23:43:52.103019Z"
    }
   },
   "outputs": [],
   "source": [
    "tagsfname = 'rbspa_int_ect-hope-PAtags-L3_20140106_v6.0.0.cdf'"
   ]
  },
  {
   "cell_type": "code",
   "execution_count": 3,
   "metadata": {
    "ExecuteTime": {
     "end_time": "2017-07-26T23:44:00.053049Z",
     "start_time": "2017-07-26T23:43:52.110346Z"
    }
   },
   "outputs": [
    {
     "name": "stdout",
     "output_type": "stream",
     "text": [
      "+\n",
      "|____ESA_Volt_Elc_Cntr_e (spacepy.pycdf.Var (4181, 72))\n",
      "|____ESA_Volt_Ion_Cntr_H (spacepy.pycdf.Var (3432, 72))\n",
      "|____Epoch_Ele (spacepy.pycdf.Var (4181,))\n",
      "|____Epoch_Ion (spacepy.pycdf.Var (3432,))\n",
      "|____HOPE_DETECTOR (spacepy.pycdf.Var (5,))\n",
      "|____HOPE_SECTOR (spacepy.pycdf.Var (16,))\n",
      "|____PA_Ele (spacepy.pycdf.Var (4181, 5, 16, 72))\n",
      "|____PA_Ion (spacepy.pycdf.Var (3432, 5, 16, 72))\n",
      "|____PHI_Ele (spacepy.pycdf.Var (4181, 5, 16, 72))\n",
      "|____PHI_Ion (spacepy.pycdf.Var (3432, 5, 16, 72))\n"
     ]
    }
   ],
   "source": [
    "with pycdf.CDF(tagsfname) as cdf:\n",
    "    tb.dictree(cdf, verbose=1)"
   ]
  },
  {
   "cell_type": "code",
   "execution_count": 4,
   "metadata": {},
   "outputs": [],
   "source": [
    "L1fname = 'rbspa_ect-hope-sci-L1_20140106_v2.1.0.cdf'"
   ]
  },
  {
   "cell_type": "code",
   "execution_count": 5,
   "metadata": {},
   "outputs": [
    {
     "name": "stdout",
     "output_type": "stream",
     "text": [
      "+\n",
      "|____Acquisition_Period (spacepy.pycdf.Var (7613,))\n",
      "|____Cntr_Eclpse (spacepy.pycdf.Var (7613,))\n",
      "|____Compression_Disable (spacepy.pycdf.Var (7613,))\n",
      "|____Detector (spacepy.pycdf.Var (5,))\n",
      "|____Detector_LABL (spacepy.pycdf.Var (5,))\n",
      "|____EDAC_Address (spacepy.pycdf.Var (0, 128))\n",
      "|____EDAC_LST_Epoch (spacepy.pycdf.Var (0,))\n",
      "|____EDAC_LST_LABL (spacepy.pycdf.Var (128,))\n",
      "|____EDAC_MET_sec (spacepy.pycdf.Var (0, 128))\n",
      "|____EDAC_Type (spacepy.pycdf.Var (0, 128))\n",
      "|____ESA_LogMeanVolt_Elc_TOF (spacepy.pycdf.Var (2197, 36))\n",
      "|____ESA_LogMeanVolt_Ion_TOF (spacepy.pycdf.Var (2070, 36))\n",
      "|____ESA_Parity_Err (spacepy.pycdf.Var (7613,))\n",
      "|____ESA_Polarity (spacepy.pycdf.Var (7613,))\n",
      "|____ESA_Sweep (spacepy.pycdf.Var (7613,))\n",
      "|____ESA_Volt (spacepy.pycdf.Var (7613, 72))\n",
      "|____ESA_Volt_Elc_Cntr_Bkg1 (spacepy.pycdf.Var (4181, 72))\n",
      "|____ESA_Volt_Elc_Cntr_Bkg2 (spacepy.pycdf.Var (3627, 72))\n",
      "|____ESA_Volt_Elc_Cntr_StartNoStops (spacepy.pycdf.Var (1904, 72))\n",
      "|____ESA_Volt_Elc_Cntr_Starts (spacepy.pycdf.Var (4181, 72))\n",
      "|____ESA_Volt_Elc_Cntr_StopNoStarts (spacepy.pycdf.Var (1904, 72))\n",
      "|____ESA_Volt_Elc_Cntr_Stops (spacepy.pycdf.Var (4181, 72))\n",
      "|____ESA_Volt_Elc_Cntr_Unknown_TOF (spacepy.pycdf.Var (3626, 72))\n",
      "|____ESA_Volt_Elc_Cntr_e (spacepy.pycdf.Var (4181, 72))\n",
      "|____ESA_Volt_Elc_TOF (spacepy.pycdf.Var (2197, 72))\n",
      "|____ESA_Volt_Ion_Cntr_H (spacepy.pycdf.Var (3432, 72))\n",
      "|____ESA_Volt_Ion_Cntr_He (spacepy.pycdf.Var (3432, 72))\n",
      "|____ESA_Volt_Ion_Cntr_O (spacepy.pycdf.Var (3432, 72))\n",
      "|____ESA_Volt_Ion_Cntr_StartNoStops (spacepy.pycdf.Var (1902, 72))\n",
      "|____ESA_Volt_Ion_Cntr_Starts (spacepy.pycdf.Var (3432, 72))\n",
      "|____ESA_Volt_Ion_Cntr_StopNoStarts (spacepy.pycdf.Var (1902, 72))\n",
      "|____ESA_Volt_Ion_Cntr_Stops (spacepy.pycdf.Var (3432, 72))\n",
      "|____ESA_Volt_Ion_Cntr_Unknown_TOF (spacepy.pycdf.Var (3432, 72))\n",
      "|____ESA_Volt_Ion_TOF (spacepy.pycdf.Var (2070, 72))\n",
      "|____ESA_Volt_LABL (spacepy.pycdf.Var (72,))\n",
      "|____Elc_Cntr_Bkg1 (spacepy.pycdf.Var (4181, 5, 16, 72))\n",
      "|____Elc_Cntr_Bkg1_Parity (spacepy.pycdf.Var (4181,))\n",
      "|____Elc_Cntr_Bkg2 (spacepy.pycdf.Var (3627, 5, 16, 72))\n",
      "|____Elc_Cntr_Bkg2_Parity (spacepy.pycdf.Var (3627,))\n",
      "|____Elc_Cntr_StartNoStops (spacepy.pycdf.Var (1904, 5, 16, 72))\n",
      "|____Elc_Cntr_StartNoStops_Parity (spacepy.pycdf.Var (1904,))\n",
      "|____Elc_Cntr_Starts (spacepy.pycdf.Var (4181, 5, 16, 72))\n",
      "|____Elc_Cntr_Starts_Parity (spacepy.pycdf.Var (4181,))\n",
      "|____Elc_Cntr_StopNoStarts (spacepy.pycdf.Var (1904, 5, 16, 72))\n",
      "|____Elc_Cntr_StopNoStarts_Parity (spacepy.pycdf.Var (1904,))\n",
      "|____Elc_Cntr_Stops (spacepy.pycdf.Var (4181, 5, 16, 72))\n",
      "|____Elc_Cntr_Stops_Parity (spacepy.pycdf.Var (4181,))\n",
      "|____Elc_Cntr_Unknown_TOF (spacepy.pycdf.Var (3626, 5, 16, 72))\n",
      "|____Elc_Cntr_Unknown_TOF_Parity (spacepy.pycdf.Var (3626,))\n",
      "|____Elc_Cntr_e (spacepy.pycdf.Var (4181, 5, 16, 72))\n",
      "|____Elc_Cntr_e_Parity (spacepy.pycdf.Var (4181,))\n",
      "|____Elc_TOF (spacepy.pycdf.Var (2197, 12, 64, 36))\n",
      "|____Elc_TOF_Angle (spacepy.pycdf.Var (2,))\n",
      "|____Elc_TOF_Azimuth (spacepy.pycdf.Var (2197, 12, 2))\n",
      "|____Elc_TOF_Parity (spacepy.pycdf.Var (2197, 12))\n",
      "|____Elc_TOF_Pixel (spacepy.pycdf.Var (2197, 12))\n",
      "|____Epoch (spacepy.pycdf.Var (7613,))\n",
      "|____Epoch_DELTA (spacepy.pycdf.Var (7613,))\n",
      "|____Epoch_Elc_Cntr_Bkg1 (spacepy.pycdf.Var (4181,))\n",
      "|____Epoch_Elc_Cntr_Bkg2 (spacepy.pycdf.Var (3627,))\n",
      "|____Epoch_Elc_Cntr_StartNoStops (spacepy.pycdf.Var (1904,))\n",
      "|____Epoch_Elc_Cntr_Starts (spacepy.pycdf.Var (4181,))\n",
      "|____Epoch_Elc_Cntr_StopNoStarts (spacepy.pycdf.Var (1904,))\n",
      "|____Epoch_Elc_Cntr_Stops (spacepy.pycdf.Var (4181,))\n",
      "|____Epoch_Elc_Cntr_Unknown_TOF (spacepy.pycdf.Var (3626,))\n",
      "|____Epoch_Elc_Cntr_e (spacepy.pycdf.Var (4181,))\n",
      "|____Epoch_Elc_TOF (spacepy.pycdf.Var (2197,))\n",
      "|____Epoch_Ion_Cntr_H (spacepy.pycdf.Var (3432,))\n",
      "|____Epoch_Ion_Cntr_He (spacepy.pycdf.Var (3432,))\n",
      "|____Epoch_Ion_Cntr_O (spacepy.pycdf.Var (3432,))\n",
      "|____Epoch_Ion_Cntr_StartNoStops (spacepy.pycdf.Var (1902,))\n",
      "|____Epoch_Ion_Cntr_Starts (spacepy.pycdf.Var (3432,))\n",
      "|____Epoch_Ion_Cntr_StopNoStarts (spacepy.pycdf.Var (1902,))\n",
      "|____Epoch_Ion_Cntr_Stops (spacepy.pycdf.Var (3432,))\n",
      "|____Epoch_Ion_Cntr_Unknown_TOF (spacepy.pycdf.Var (3432,))\n",
      "|____Epoch_Ion_TOF (spacepy.pycdf.Var (2070,))\n",
      "|____FRAME_subtime (spacepy.pycdf.Var (7613, 16, 72))\n",
      "|____FRAME_subtime_DELTA (spacepy.pycdf.Var (7613, 16, 72))\n",
      "|____HVPS_Transition_Time (spacepy.pycdf.Var (7613,))\n",
      "|____Ion_Cntr_H (spacepy.pycdf.Var (3432, 5, 16, 72))\n",
      "|____Ion_Cntr_H_Parity (spacepy.pycdf.Var (3432,))\n",
      "|____Ion_Cntr_He (spacepy.pycdf.Var (3432, 5, 16, 72))\n",
      "|____Ion_Cntr_He_Parity (spacepy.pycdf.Var (3432,))\n",
      "|____Ion_Cntr_O (spacepy.pycdf.Var (3432, 5, 16, 72))\n",
      "|____Ion_Cntr_O_Parity (spacepy.pycdf.Var (3432,))\n",
      "|____Ion_Cntr_StartNoStops (spacepy.pycdf.Var (1902, 5, 16, 72))\n",
      "|____Ion_Cntr_StartNoStops_Parity (spacepy.pycdf.Var (1902,))\n",
      "|____Ion_Cntr_Starts (spacepy.pycdf.Var (3432, 5, 16, 72))\n",
      "|____Ion_Cntr_Starts_Parity (spacepy.pycdf.Var (3432,))\n",
      "|____Ion_Cntr_StopNoStarts (spacepy.pycdf.Var (1902, 5, 16, 72))\n",
      "|____Ion_Cntr_StopNoStarts_Parity (spacepy.pycdf.Var (1902,))\n",
      "|____Ion_Cntr_Stops (spacepy.pycdf.Var (3432, 5, 16, 72))\n",
      "|____Ion_Cntr_Stops_Parity (spacepy.pycdf.Var (3432,))\n",
      "|____Ion_Cntr_Unknown_TOF (spacepy.pycdf.Var (3432, 5, 16, 72))\n",
      "|____Ion_Cntr_Unknown_TOF_Parity (spacepy.pycdf.Var (3432,))\n",
      "|____Ion_TOF (spacepy.pycdf.Var (2070, 12, 64, 36))\n",
      "|____Ion_TOF_Angle (spacepy.pycdf.Var (2,))\n",
      "|____Ion_TOF_Azimuth (spacepy.pycdf.Var (2070, 12, 2))\n",
      "|____Ion_TOF_Azimuth_LABL_2 (spacepy.pycdf.Var (2,))\n",
      "|____Ion_TOF_Parity (spacepy.pycdf.Var (2070, 12))\n",
      "|____Ion_TOF_Pixel (spacepy.pycdf.Var (2070, 12))\n",
      "|____MET_ms (spacepy.pycdf.Var (7613,))\n",
      "|____MET_ms_Elc_Cntr_Bkg1 (spacepy.pycdf.Var (4181,))\n",
      "|____MET_ms_Elc_Cntr_Bkg2 (spacepy.pycdf.Var (3627,))\n",
      "|____MET_ms_Elc_Cntr_StartNoStops (spacepy.pycdf.Var (1904,))\n",
      "|____MET_ms_Elc_Cntr_Starts (spacepy.pycdf.Var (4181,))\n",
      "|____MET_ms_Elc_Cntr_StopNoStarts (spacepy.pycdf.Var (1904,))\n",
      "|____MET_ms_Elc_Cntr_Stops (spacepy.pycdf.Var (4181,))\n",
      "|____MET_ms_Elc_Cntr_Unknown_TOF (spacepy.pycdf.Var (3626,))\n",
      "|____MET_ms_Elc_Cntr_e (spacepy.pycdf.Var (4181,))\n",
      "|____MET_ms_Elc_TOF (spacepy.pycdf.Var (2197,))\n",
      "|____MET_ms_Ion_Cntr_H (spacepy.pycdf.Var (3432,))\n",
      "|____MET_ms_Ion_Cntr_He (spacepy.pycdf.Var (3432,))\n",
      "|____MET_ms_Ion_Cntr_O (spacepy.pycdf.Var (3432,))\n",
      "|____MET_ms_Ion_Cntr_StartNoStops (spacepy.pycdf.Var (1902,))\n",
      "|____MET_ms_Ion_Cntr_Starts (spacepy.pycdf.Var (3432,))\n",
      "|____MET_ms_Ion_Cntr_StopNoStarts (spacepy.pycdf.Var (1902,))\n",
      "|____MET_ms_Ion_Cntr_Stops (spacepy.pycdf.Var (3432,))\n",
      "|____MET_ms_Ion_Cntr_Unknown_TOF (spacepy.pycdf.Var (3432,))\n",
      "|____MET_ms_Ion_TOF (spacepy.pycdf.Var (2070,))\n",
      "|____MET_sec (spacepy.pycdf.Var (7613,))\n",
      "|____MET_sec_Elc_Cntr_Bkg1 (spacepy.pycdf.Var (4181,))\n",
      "|____MET_sec_Elc_Cntr_Bkg2 (spacepy.pycdf.Var (3627,))\n",
      "|____MET_sec_Elc_Cntr_StartNoStops (spacepy.pycdf.Var (1904,))\n",
      "|____MET_sec_Elc_Cntr_Starts (spacepy.pycdf.Var (4181,))\n",
      "|____MET_sec_Elc_Cntr_StopNoStarts (spacepy.pycdf.Var (1904,))\n",
      "|____MET_sec_Elc_Cntr_Stops (spacepy.pycdf.Var (4181,))\n",
      "|____MET_sec_Elc_Cntr_Unknown_TOF (spacepy.pycdf.Var (3626,))\n",
      "|____MET_sec_Elc_Cntr_e (spacepy.pycdf.Var (4181,))\n",
      "|____MET_sec_Elc_TOF (spacepy.pycdf.Var (2197,))\n",
      "|____MET_sec_Ion_Cntr_H (spacepy.pycdf.Var (3432,))\n",
      "|____MET_sec_Ion_Cntr_He (spacepy.pycdf.Var (3432,))\n",
      "|____MET_sec_Ion_Cntr_O (spacepy.pycdf.Var (3432,))\n",
      "|____MET_sec_Ion_Cntr_StartNoStops (spacepy.pycdf.Var (1902,))\n",
      "|____MET_sec_Ion_Cntr_Starts (spacepy.pycdf.Var (3432,))\n",
      "|____MET_sec_Ion_Cntr_StopNoStarts (spacepy.pycdf.Var (1902,))\n",
      "|____MET_sec_Ion_Cntr_Stops (spacepy.pycdf.Var (3432,))\n",
      "|____MET_sec_Ion_Cntr_Unknown_TOF (spacepy.pycdf.Var (3432,))\n",
      "|____MET_sec_Ion_TOF (spacepy.pycdf.Var (2070,))\n",
      "|____MET_us (spacepy.pycdf.Var (7613,))\n",
      "|____MET_us_Elc_Cntr_Bkg1 (spacepy.pycdf.Var (4181,))\n",
      "|____MET_us_Elc_Cntr_Bkg2 (spacepy.pycdf.Var (3627,))\n",
      "|____MET_us_Elc_Cntr_StartNoStops (spacepy.pycdf.Var (1904,))\n",
      "|____MET_us_Elc_Cntr_Starts (spacepy.pycdf.Var (4181,))\n",
      "|____MET_us_Elc_Cntr_StopNoStarts (spacepy.pycdf.Var (1904,))\n",
      "|____MET_us_Elc_Cntr_Stops (spacepy.pycdf.Var (4181,))\n",
      "|____MET_us_Elc_Cntr_Unknown_TOF (spacepy.pycdf.Var (3626,))\n",
      "|____MET_us_Elc_Cntr_e (spacepy.pycdf.Var (4181,))\n",
      "|____MET_us_Elc_TOF (spacepy.pycdf.Var (2197,))\n",
      "|____MET_us_Ion_Cntr_H (spacepy.pycdf.Var (3432,))\n",
      "|____MET_us_Ion_Cntr_He (spacepy.pycdf.Var (3432,))\n",
      "|____MET_us_Ion_Cntr_O (spacepy.pycdf.Var (3432,))\n",
      "|____MET_us_Ion_Cntr_StartNoStops (spacepy.pycdf.Var (1902,))\n",
      "|____MET_us_Ion_Cntr_Starts (spacepy.pycdf.Var (3432,))\n",
      "|____MET_us_Ion_Cntr_StopNoStarts (spacepy.pycdf.Var (1902,))\n",
      "|____MET_us_Ion_Cntr_Stops (spacepy.pycdf.Var (3432,))\n",
      "|____MET_us_Ion_Cntr_Unknown_TOF (spacepy.pycdf.Var (3432,))\n",
      "|____MET_us_Ion_TOF (spacepy.pycdf.Var (2070,))\n",
      "|____Plan (spacepy.pycdf.Var (7613,))\n",
      "|____Plan_Step (spacepy.pycdf.Var (7613,))\n",
      "|____Sector (spacepy.pycdf.Var (16,))\n",
      "|____Sector_Collapse_Cntr (spacepy.pycdf.Var (7613, 5))\n",
      "|____Sector_LABL (spacepy.pycdf.Var (16,))\n",
      "|____Spin_Id (spacepy.pycdf.Var (7613,))\n",
      "|____TOF_Azimuth (spacepy.pycdf.Var (5,))\n",
      "|____TOF_Azimuth_LABL (spacepy.pycdf.Var (16,))\n",
      "|____TOF_DAC (spacepy.pycdf.Var (7613,))\n",
      "|____TOF_ESA_Volt_LABL (spacepy.pycdf.Var (36,))\n",
      "|____TOF_Eclpse (spacepy.pycdf.Var (7613,))\n",
      "|____TOF_Parity_Err (spacepy.pycdf.Var (7613,))\n",
      "|____TOF_Pixel (spacepy.pycdf.Var (5,))\n",
      "|____TOF_Pixel_LABL (spacepy.pycdf.Var (5,))\n",
      "|____TOF_Polarity (spacepy.pycdf.Var (7613,))\n",
      "|____TOF_bin (spacepy.pycdf.Var (64,))\n",
      "|____TOF_bin_LABL (spacepy.pycdf.Var (64,))\n",
      "|____TOF_num (spacepy.pycdf.Var (12,))\n",
      "|____TOF_num_LABL (spacepy.pycdf.Var (12,))\n",
      "|____UTC_SOC_EDAC_LST_Epoch (spacepy.pycdf.Var (0,))\n",
      "|____UTC_SOC_Epoch (spacepy.pycdf.Var (7613,))\n",
      "|____UTC_SOC_Epoch_Elc_Cntr_Bkg1 (spacepy.pycdf.Var (4181,))\n",
      "|____UTC_SOC_Epoch_Elc_Cntr_Bkg2 (spacepy.pycdf.Var (3627,))\n",
      "|____UTC_SOC_Epoch_Elc_Cntr_StartNoStops (spacepy.pycdf.Var (1904,))\n",
      "|____UTC_SOC_Epoch_Elc_Cntr_Starts (spacepy.pycdf.Var (4181,))\n",
      "|____UTC_SOC_Epoch_Elc_Cntr_StopNoStarts (spacepy.pycdf.Var (1904,))\n",
      "|____UTC_SOC_Epoch_Elc_Cntr_Stops (spacepy.pycdf.Var (4181,))\n",
      "|____UTC_SOC_Epoch_Elc_Cntr_Unknown_TOF (spacepy.pycdf.Var (3626,))\n",
      "|____UTC_SOC_Epoch_Elc_Cntr_e (spacepy.pycdf.Var (4181,))\n",
      "|____UTC_SOC_Epoch_Elc_TOF (spacepy.pycdf.Var (2197,))\n",
      "|____UTC_SOC_Epoch_Ion_Cntr_H (spacepy.pycdf.Var (3432,))\n",
      "|____UTC_SOC_Epoch_Ion_Cntr_He (spacepy.pycdf.Var (3432,))\n",
      "|____UTC_SOC_Epoch_Ion_Cntr_O (spacepy.pycdf.Var (3432,))\n",
      "|____UTC_SOC_Epoch_Ion_Cntr_StartNoStops (spacepy.pycdf.Var (1902,))\n",
      "|____UTC_SOC_Epoch_Ion_Cntr_Starts (spacepy.pycdf.Var (3432,))\n",
      "|____UTC_SOC_Epoch_Ion_Cntr_StopNoStarts (spacepy.pycdf.Var (1902,))\n",
      "|____UTC_SOC_Epoch_Ion_Cntr_Stops (spacepy.pycdf.Var (3432,))\n",
      "|____UTC_SOC_Epoch_Ion_Cntr_Unknown_TOF (spacepy.pycdf.Var (3432,))\n",
      "|____UTC_SOC_Epoch_Ion_TOF (spacepy.pycdf.Var (2070,))\n"
     ]
    }
   ],
   "source": [
    "with pycdf.CDF(L1fname) as cdf:\n",
    "    tb.dictree(cdf, verbose=1)"
   ]
  },
  {
   "cell_type": "markdown",
   "metadata": {},
   "source": [
    "## Make up a DF for the PA tags and for the L1 counts and then merge them together"
   ]
  },
  {
   "cell_type": "code",
   "execution_count": 6,
   "metadata": {},
   "outputs": [
    {
     "name": "stderr",
     "output_type": "stream",
     "text": [
      "100%|██████████| 5760/5760 [00:12<00:00, 469.89it/s]\n"
     ]
    }
   ],
   "source": [
    "VToE = 7.0   # TODO get the real number\n",
    "with pycdf.CDF(tagsfname) as cdf:\n",
    "    energies = cdf['ESA_Volt_Ion_Cntr_H'][...] * VToE\n",
    "    Epoch_Ion = pd.DatetimeIndex(cdf['Epoch_Ion'][...])\n",
    "    HOPE_DETECTOR = cdf['HOPE_DETECTOR'][...]\n",
    "    HOPE_SECTOR = cdf['HOPE_SECTOR'][...]\n",
    "    PA_Ion = cdf['PA_Ion'][...]\n",
    "    PHI_Ion = cdf['PHI_Ion'][...]\n",
    "    \n",
    "    n_t = len(Epoch_Ion)\n",
    "    def make_df(e_ind, s_ind, p_ind):\n",
    "        df = pd.DataFrame({'Energy':np.asarray([energies[:,e_ind]]).flatten(), \n",
    "                          'Detector':np.asarray([HOPE_DETECTOR[p_ind]]*n_t),\n",
    "                           'Sector':np.asarray([HOPE_SECTOR[s_ind]]*n_t), \n",
    "                          'PA_Ion':PA_Ion[:, p_ind, s_ind, e_ind], \n",
    "                          'PHI_Ion':PHI_Ion[:, p_ind, s_ind, e_ind],\n",
    "                          }, index=pd.DatetimeIndex(Epoch_Ion))\n",
    "        return df\n",
    "    \n",
    "    df = []\n",
    "    for e_ind, s_ind, p_ind in tqdm.tqdm(itertools.product(range(72), \n",
    "                                                           range(16), \n",
    "                                                           range(5)), total=72*16*5):\n",
    "        df.append(make_df(e_ind, s_ind, p_ind))\n",
    "    df = pd.concat(df)\n",
    "    \n",
    "# |____ESA_Volt_Elc_Cntr_e (spacepy.pycdf.Var (4181, 72))\n",
    "# |____ESA_Volt_Ion_Cntr_H (spacepy.pycdf.Var (3432, 72))\n",
    "# |____Epoch_Ele (spacepy.pycdf.Var (4181,))\n",
    "# |____Epoch_Ion (spacepy.pycdf.Var (3432,))\n",
    "# |____HOPE_DETECTOR (spacepy.pycdf.Var (5,))\n",
    "# |____HOPE_SECTOR (spacepy.pycdf.Var (16,))\n",
    "# |____PA_Ele (spacepy.pycdf.Var (4181, 5, 16, 72))\n",
    "# |____PA_Ion (spacepy.pycdf.Var (3432, 5, 16, 72))\n",
    "# |____PHI_Ele (spacepy.pycdf.Var (4181, 5, 16, 72))\n",
    "# |____PHI_Ion (spacepy.pycdf.Var (3432, 5, 16, 72))"
   ]
  },
  {
   "cell_type": "code",
   "execution_count": 7,
   "metadata": {},
   "outputs": [],
   "source": [
    "df['PA_bin5'] = pd.cut(df['PA_Ion'], range(0, 181, 5))\n",
    "df['PHI_bin5'] = pd.cut(df['PHI_Ion'], range(0, 361, 5))"
   ]
  },
  {
   "cell_type": "code",
   "execution_count": 8,
   "metadata": {},
   "outputs": [
    {
     "data": {
      "text/plain": [
       "array([  0,   1,   2,   3,   4,   5,   6,   7,   8,   9,  10,  11,  12,\n",
       "        13,  14,  15,  16,  17,  18,  19,  20,  21,  22,  23,  24,  25,\n",
       "        26,  27,  28,  29,  30,  31,  32,  33,  34,  35,  36,  37,  38,\n",
       "        39,  40,  41,  42,  43,  44,  45,  46,  47,  48,  49,  50,  51,\n",
       "        52,  53,  54,  55,  56,  57,  58,  59,  60,  61,  62,  63,  64,\n",
       "        65,  66,  67,  68,  69,  70,  71,  72,  73,  74,  75,  76,  77,\n",
       "        78,  79,  80,  81,  82,  83,  84,  85,  86,  87,  88,  89,  90,\n",
       "        91,  92,  93,  94,  95,  96,  97,  98,  99, 100, 101, 102, 103,\n",
       "       104, 105, 106, 107, 108, 109, 110, 111, 112, 113, 114, 115, 116,\n",
       "       117, 118, 119, 120, 121, 122, 123, 124, 125, 126, 127, 128, 129,\n",
       "       130, 131, 132, 133, 134, 135, 136, 137, 138, 139, 140, 141, 142,\n",
       "       143, 144, 145, 146, 147, 148, 149, 150, 151, 152, 153, 154, 155,\n",
       "       156, 157, 158, 159, 160, 161, 162, 163, 164, 165, 166, 167, 168,\n",
       "       169, 170, 171, 172, 173, 174, 175, 176, 177, 178, 179], dtype=uint8)"
      ]
     },
     "execution_count": 8,
     "metadata": {},
     "output_type": "execute_result"
    }
   ],
   "source": [
    "np.unique(df['PA_Ion'])"
   ]
  },
  {
   "cell_type": "code",
   "execution_count": 9,
   "metadata": {},
   "outputs": [
    {
     "data": {
      "text/html": [
       "<div>\n",
       "<style scoped>\n",
       "    .dataframe tbody tr th:only-of-type {\n",
       "        vertical-align: middle;\n",
       "    }\n",
       "\n",
       "    .dataframe tbody tr th {\n",
       "        vertical-align: top;\n",
       "    }\n",
       "\n",
       "    .dataframe thead th {\n",
       "        text-align: right;\n",
       "    }\n",
       "</style>\n",
       "<table border=\"1\" class=\"dataframe\">\n",
       "  <thead>\n",
       "    <tr style=\"text-align: right;\">\n",
       "      <th></th>\n",
       "      <th>Detector</th>\n",
       "      <th>Energy</th>\n",
       "      <th>PA_Ion</th>\n",
       "      <th>PHI_Ion</th>\n",
       "      <th>Sector</th>\n",
       "      <th>PA_bin5</th>\n",
       "      <th>PHI_bin5</th>\n",
       "    </tr>\n",
       "  </thead>\n",
       "  <tbody>\n",
       "    <tr>\n",
       "      <th>2014-01-06 00:00:13.056</th>\n",
       "      <td>1</td>\n",
       "      <td>0.98</td>\n",
       "      <td>87</td>\n",
       "      <td>283</td>\n",
       "      <td>1.0</td>\n",
       "      <td>(85, 90]</td>\n",
       "      <td>(280, 285]</td>\n",
       "    </tr>\n",
       "    <tr>\n",
       "      <th>2014-01-06 00:00:35.752</th>\n",
       "      <td>1</td>\n",
       "      <td>0.98</td>\n",
       "      <td>80</td>\n",
       "      <td>287</td>\n",
       "      <td>1.0</td>\n",
       "      <td>(75, 80]</td>\n",
       "      <td>(285, 290]</td>\n",
       "    </tr>\n",
       "    <tr>\n",
       "      <th>2014-01-06 00:01:21.145</th>\n",
       "      <td>1</td>\n",
       "      <td>0.98</td>\n",
       "      <td>64</td>\n",
       "      <td>284</td>\n",
       "      <td>1.0</td>\n",
       "      <td>(60, 65]</td>\n",
       "      <td>(280, 285]</td>\n",
       "    </tr>\n",
       "    <tr>\n",
       "      <th>2014-01-06 00:01:43.842</th>\n",
       "      <td>1</td>\n",
       "      <td>0.98</td>\n",
       "      <td>59</td>\n",
       "      <td>277</td>\n",
       "      <td>1.0</td>\n",
       "      <td>(55, 60]</td>\n",
       "      <td>(275, 280]</td>\n",
       "    </tr>\n",
       "    <tr>\n",
       "      <th>2014-01-06 00:02:06.539</th>\n",
       "      <td>1</td>\n",
       "      <td>0.98</td>\n",
       "      <td>57</td>\n",
       "      <td>268</td>\n",
       "      <td>1.0</td>\n",
       "      <td>(55, 60]</td>\n",
       "      <td>(265, 270]</td>\n",
       "    </tr>\n",
       "  </tbody>\n",
       "</table>\n",
       "</div>"
      ],
      "text/plain": [
       "                         Detector  Energy  PA_Ion  PHI_Ion  Sector   PA_bin5  \\\n",
       "2014-01-06 00:00:13.056         1    0.98      87      283     1.0  (85, 90]   \n",
       "2014-01-06 00:00:35.752         1    0.98      80      287     1.0  (75, 80]   \n",
       "2014-01-06 00:01:21.145         1    0.98      64      284     1.0  (60, 65]   \n",
       "2014-01-06 00:01:43.842         1    0.98      59      277     1.0  (55, 60]   \n",
       "2014-01-06 00:02:06.539         1    0.98      57      268     1.0  (55, 60]   \n",
       "\n",
       "                           PHI_bin5  \n",
       "2014-01-06 00:00:13.056  (280, 285]  \n",
       "2014-01-06 00:00:35.752  (285, 290]  \n",
       "2014-01-06 00:01:21.145  (280, 285]  \n",
       "2014-01-06 00:01:43.842  (275, 280]  \n",
       "2014-01-06 00:02:06.539  (265, 270]  "
      ]
     },
     "execution_count": 9,
     "metadata": {},
     "output_type": "execute_result"
    }
   ],
   "source": [
    "df.head()"
   ]
  },
  {
   "cell_type": "code",
   "execution_count": 10,
   "metadata": {},
   "outputs": [
    {
     "data": {
      "image/png": "[encoded data removed]",
      "text/plain": [
       "<matplotlib.figure.Figure at 0x10d0136d8>"
      ]
     },
     "metadata": {},
     "output_type": "display_data"
    }
   ],
   "source": [
    "plt.figure(figsize=(8,6))\n",
    "plt.hist2d(df['PA_Ion'], df['PHI_Ion'], (range(0, 181, 5), range(0, 361, 5)), \n",
    "           norm=LogNorm());\n",
    "plt.colorbar()\n",
    "plt.xlabel('PA')\n",
    "plt.ylabel('PHI')\n",
    "plt.xticks(range(0,181, 10))\n",
    "plt.yticks(range(0,361, 20));"
   ]
  },
  {
   "cell_type": "code",
   "execution_count": 11,
   "metadata": {},
   "outputs": [
    {
     "name": "stderr",
     "output_type": "stream",
     "text": [
      "/Users/blarsen/miniconda3/envs/python3/lib/python3.6/site-packages/matplotlib/colors.py:1015: RuntimeWarning: divide by zero encountered in log\n",
      "  resdat -= np.log(vmin)\n",
      "/Users/blarsen/miniconda3/envs/python3/lib/python3.6/site-packages/matplotlib/colors.py:1016: RuntimeWarning: divide by zero encountered in log\n",
      "  resdat /= (np.log(vmax) - np.log(vmin))\n"
     ]
    },
    {
     "data": {
      "image/png": "[encoded data removed]",
      "text/plain": [
       "<matplotlib.figure.Figure at 0x10ccf5c88>"
      ]
     },
     "metadata": {},
     "output_type": "display_data"
    }
   ],
   "source": [
    "fig, ax = plt.subplots(nrows=3, ncols=2, figsize=(12,6), sharex=True, sharey=True)\n",
    "ax = np.asarray(ax).flatten()\n",
    "\n",
    "for i, a in enumerate(ax):\n",
    "    a.hist2d(df['PA_Ion'].loc[df['Detector']==i+1], \n",
    "             df['PHI_Ion'].loc[df['Detector']==i+1], \n",
    "               (range(0, 181, 5), range(0, 361, 5)), \n",
    "               norm=LogNorm(), cmap=plt.cm.rainbow);\n",
    "#     plt.colorbar()\n",
    "#     plt.xlabel('PA')\n",
    "#     plt.ylabel('PHI')\n",
    "#     plt.xticks(range(0,181, 10))\n",
    "#     plt.yticks(range(0,361, 20));"
   ]
  },
  {
   "cell_type": "code",
   "execution_count": 12,
   "metadata": {},
   "outputs": [
    {
     "data": {
      "image/png": "[encoded data removed]",
      "text/plain": [
       "<matplotlib.figure.Figure at 0x10cd98a58>"
      ]
     },
     "metadata": {},
     "output_type": "display_data"
    }
   ],
   "source": [
    "fig, ax = plt.subplots(nrows=1, ncols=1, figsize=(12,6), sharex=True, sharey=True)\n",
    "ax = np.asarray(ax).flatten()\n",
    "\n",
    "for i, a in enumerate(range(5)):\n",
    "    ax[0].hist2d(df['PA_Ion'].loc[df['Detector']==i+1], \n",
    "             df['PHI_Ion'].loc[df['Detector']==i+1], \n",
    "               (range(0, 181, 5), range(0, 361, 5)), \n",
    "               norm=LogNorm(), cmap=plt.cm.rainbow);\n",
    "#     plt.colorbar()\n",
    "#     plt.xlabel('PA')\n",
    "#     plt.ylabel('PHI')\n",
    "#     plt.xticks(range(0,181, 10))\n",
    "#     plt.yticks(range(0,361, 20));"
   ]
  },
  {
   "cell_type": "code",
   "execution_count": 13,
   "metadata": {},
   "outputs": [
    {
     "data": {
      "text/plain": [
       "<matplotlib.axes._subplots.AxesSubplot at 0x10c945630>"
      ]
     },
     "execution_count": 13,
     "metadata": {},
     "output_type": "execute_result"
    },
    {
     "data": {
      "image/png": "[encoded data removed]",
      "text/plain": [
       "<matplotlib.figure.Figure at 0x10c945240>"
      ]
     },
     "metadata": {},
     "output_type": "display_data"
    }
   ],
   "source": [
    "sns.distplot(df['PA_Ion'],norm_hist=False, kde=False)"
   ]
  },
  {
   "cell_type": "code",
   "execution_count": 14,
   "metadata": {},
   "outputs": [],
   "source": [
    "\n",
    "# sns.distplot(df['PA_bin5'],norm_hist=False, kde=False)"
   ]
  },
  {
   "cell_type": "code",
   "execution_count": 18,
   "metadata": {},
   "outputs": [
    {
     "data": {
      "text/plain": [
       "PA_bin5\n",
       "(0, 5]        AxesSubplot(0.125,0.125;0.775x0.755)\n",
       "(5, 10]       AxesSubplot(0.125,0.125;0.775x0.755)\n",
       "(10, 15]      AxesSubplot(0.125,0.125;0.775x0.755)\n",
       "(15, 20]      AxesSubplot(0.125,0.125;0.775x0.755)\n",
       "(20, 25]      AxesSubplot(0.125,0.125;0.775x0.755)\n",
       "(25, 30]      AxesSubplot(0.125,0.125;0.775x0.755)\n",
       "(30, 35]      AxesSubplot(0.125,0.125;0.775x0.755)\n",
       "(35, 40]      AxesSubplot(0.125,0.125;0.775x0.755)\n",
       "(40, 45]      AxesSubplot(0.125,0.125;0.775x0.755)\n",
       "(45, 50]      AxesSubplot(0.125,0.125;0.775x0.755)\n",
       "(50, 55]      AxesSubplot(0.125,0.125;0.775x0.755)\n",
       "(55, 60]      AxesSubplot(0.125,0.125;0.775x0.755)\n",
       "(60, 65]      AxesSubplot(0.125,0.125;0.775x0.755)\n",
       "(65, 70]      AxesSubplot(0.125,0.125;0.775x0.755)\n",
       "(70, 75]      AxesSubplot(0.125,0.125;0.775x0.755)\n",
       "(75, 80]      AxesSubplot(0.125,0.125;0.775x0.755)\n",
       "(80, 85]      AxesSubplot(0.125,0.125;0.775x0.755)\n",
       "(85, 90]      AxesSubplot(0.125,0.125;0.775x0.755)\n",
       "(90, 95]      AxesSubplot(0.125,0.125;0.775x0.755)\n",
       "(95, 100]     AxesSubplot(0.125,0.125;0.775x0.755)\n",
       "(100, 105]    AxesSubplot(0.125,0.125;0.775x0.755)\n",
       "(105, 110]    AxesSubplot(0.125,0.125;0.775x0.755)\n",
       "(110, 115]    AxesSubplot(0.125,0.125;0.775x0.755)\n",
       "(115, 120]    AxesSubplot(0.125,0.125;0.775x0.755)\n",
       "(120, 125]    AxesSubplot(0.125,0.125;0.775x0.755)\n",
       "(125, 130]    AxesSubplot(0.125,0.125;0.775x0.755)\n",
       "(130, 135]    AxesSubplot(0.125,0.125;0.775x0.755)\n",
       "(135, 140]    AxesSubplot(0.125,0.125;0.775x0.755)\n",
       "(140, 145]    AxesSubplot(0.125,0.125;0.775x0.755)\n",
       "(145, 150]    AxesSubplot(0.125,0.125;0.775x0.755)\n",
       "(150, 155]    AxesSubplot(0.125,0.125;0.775x0.755)\n",
       "(155, 160]    AxesSubplot(0.125,0.125;0.775x0.755)\n",
       "(160, 165]    AxesSubplot(0.125,0.125;0.775x0.755)\n",
       "(165, 170]    AxesSubplot(0.125,0.125;0.775x0.755)\n",
       "(170, 175]    AxesSubplot(0.125,0.125;0.775x0.755)\n",
       "(175, 180]    AxesSubplot(0.125,0.125;0.775x0.755)\n",
       "Name: PA_Ion, dtype: object"
      ]
     },
     "execution_count": 18,
     "metadata": {},
     "output_type": "execute_result"
    },
    {
     "data": {
      "image/png": "[encoded data removed]",
      "text/plain": [
       "<matplotlib.figure.Figure at 0x10c1a8518>"
      ]
     },
     "metadata": {},
     "output_type": "display_data"
    }
   ],
   "source": [
    "df.groupby('PA_bin5')['PA_Ion'].hist()"
   ]
  },
  {
   "cell_type": "code",
   "execution_count": null,
   "metadata": {},
   "outputs": [],
   "source": []
  }
 ],
 "metadata": {
  "anaconda-cloud": {},
  "kernelspec": {
   "display_name": "Python 3",
   "language": "python",
   "name": "python3"
  },
  "language_info": {
   "codemirror_mode": {
    "name": "ipython",
    "version": 3
   },
   "file_extension": ".py",
   "mimetype": "text/x-python",
   "name": "python",
   "nbconvert_exporter": "python",
   "pygments_lexer": "ipython3",
   "version": "3.6.4"
  },
  "toc": {
   "colors": {
    "hover_highlight": "#DAA520",
    "navigate_num": "#000000",
    "navigate_text": "#333333",
    "running_highlight": "#FF0000",
    "selected_highlight": "#FFD700",
    "sidebar_border": "#EEEEEE",
    "wrapper_background": "#FFFFFF"
   },
   "moveMenuLeft": true,
   "nav_menu": {
    "height": "49px",
    "width": "252px"
   },
   "navigate_menu": true,
   "number_sections": true,
   "sideBar": true,
   "threshold": 4,
   "toc_cell": false,
   "toc_section_display": "block",
   "toc_window_display": false,
   "widenNotebook": false
  }
 },
 "nbformat": 4,
 "nbformat_minor": 1
}
