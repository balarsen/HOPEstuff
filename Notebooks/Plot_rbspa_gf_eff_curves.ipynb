{
 "cells": [
  {
   "cell_type": "code",
   "execution_count": 1,
   "metadata": {
    "collapsed": false
   },
   "outputs": [
    {
     "name": "stdout",
     "output_type": "stream",
     "text": [
      "This unreleased version of SpacePy is not supported by the SpacePy team.\n"
     ]
    }
   ],
   "source": [
    "%matplotlib inline\n",
    "\n",
    "import matplotlib.pyplot as plt\n",
    "import numpy as np\n",
    "import spacepy.datamodel as dm"
   ]
  },
  {
   "cell_type": "code",
   "execution_count": 6,
   "metadata": {
    "collapsed": false
   },
   "outputs": [
    {
     "name": "stdout",
     "output_type": "stream",
     "text": [
      "+\n",
      "|____EFF_PARAMETERS (spacepy.datamodel.dmarray (10, 10))\n",
      "|____GF_PARAMETERS (spacepy.datamodel.dmarray (10, 10))\n",
      "False\n"
     ]
    }
   ],
   "source": [
    "data = dm.readJSONheadedASCII('rbspa_ect-hope-cal_v1.0.0.txt')\n",
    "data.tree(verbose=1)\n",
    "print (data['EFF_PARAMETERS'] - data['GF_PARAMETERS']).any()\n",
    "d2 = data['EFF_PARAMETERS']"
   ]
  },
  {
   "cell_type": "code",
   "execution_count": 17,
   "metadata": {
    "collapsed": false
   },
   "outputs": [
    {
     "name": "stdout",
     "output_type": "stream",
     "text": [
      "[  0.00000000e+00   1.00000000e+00   9.27821990e-02  -6.19257990e-03\n",
      "   0.00000000e+00   0.00000000e+00   6.00000000e+01   1.00000000e+00\n",
      "   0.00000000e+00   0.00000000e+00] [   1.          1.         29.964722 -244.75496   478.7576      0.         60.\n",
      "    0.          0.          1.      ]\n"
     ]
    }
   ],
   "source": [
    "species = ['H', 'He', 'O', 'e']\n",
    "#for i, s in enumerate(species):\n",
    "i, s = 1, 'He'\n",
    "he_g = d2[1,:]\n",
    "he_eff = d2[6,:]\n",
    "print he_gf, he_eff"
   ]
  },
  {
   "cell_type": "code",
   "execution_count": 21,
   "metadata": {
    "collapsed": false
   },
   "outputs": [
    {
     "name": "stderr",
     "output_type": "stream",
     "text": [
      "/anaconda/lib/python2.7/site-packages/IPython/kernel/__main__.py:8: RuntimeWarning: divide by zero encountered in double_scalars\n"
     ]
    }
   ],
   "source": [
    "energy = np.linspace(0, 60, 100)\n",
    "a_g = he_g[4]\n",
    "a_e = he_eff[4]\n",
    "b_g = he_g[3]\n",
    "b_e = he_eff[3]\n",
    "c_g = he_g[2]\n",
    "c_e = he_eff[2] - energy\n",
    "eff = (-1.0*b_g + np.sqrt(b_g**2 -4.0*a_g*c_g))/(2.0*a_g)\n",
    "gf  = (-1.0*b_e + np.sqrt(b_e**2 -4.0*a_e*c_e))/(2.0*a_e)"
   ]
  },
  {
   "cell_type": "code",
   "execution_count": null,
   "metadata": {
    "collapsed": true
   },
   "outputs": [],
   "source": []
  }
 ],
 "metadata": {
  "kernelspec": {
   "display_name": "Python 2",
   "language": "python",
   "name": "python2"
  },
  "language_info": {
   "codemirror_mode": {
    "name": "ipython",
    "version": 2
   },
   "file_extension": ".py",
   "mimetype": "text/x-python",
   "name": "python",
   "nbconvert_exporter": "python",
   "pygments_lexer": "ipython2",
   "version": "2.7.10"
  }
 },
 "nbformat": 4,
 "nbformat_minor": 0
}
